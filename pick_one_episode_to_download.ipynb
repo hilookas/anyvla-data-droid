{
 "cells": [
  {
   "cell_type": "code",
   "execution_count": 9,
   "metadata": {},
   "outputs": [],
   "source": [
    "# import os; os.environ[\"https_proxy\"] = \"http://172.19.135.130:5000\"\n",
    "import os; os.environ[\"https_proxy\"] = \"http://127.0.0.1:8889\"\n",
    "\n",
    "import tensorflow as tf\n",
    "\n",
    "# episode_paths = tf.io.gfile.glob(\"gs://gresearch/robotics/droid_raw/1.0.1/*/success/*/*/metadata_*.json\")\n",
    "episode_paths = tf.io.gfile.glob(\"gs://gresearch/robotics/droid_raw/1.0.1/RAIL/success/2023-12-03/Sun_Dec__3_11:06:33_2023/metadata_*.json\")\n",
    "\n",
    "episode_paths = tf.io.gfile.glob(\"gs://gresearch/robotics/droid_raw/1.0.1/AUTOLab/success/2023-07-07/*/metadata_*.json\")\n",
    "\n",
    "# gsutil -m ls gs://gresearch/robotics/droid_raw/1.0.1/AUTOLab/success/2023-07-07/Fri_Jul__7_10:01:42_2023/\n",
    "\n",
    "# gsutil -m cp -r gs://gresearch/robotics/droid_raw/1.0.1/AUTOLab/success/2023-07-07/Fri_Jul__7_11:27:58_2023 ."
   ]
  },
  {
   "cell_type": "code",
   "execution_count": 10,
   "metadata": {},
   "outputs": [],
   "source": [
    "import pickle\n",
    "\n",
    "with open(\"episode_paths.pkl\", \"wb\") as f:\n",
    "    pickle.dump(episode_paths, f)\n"
   ]
  },
  {
   "cell_type": "code",
   "execution_count": 8,
   "metadata": {},
   "outputs": [
    {
     "name": "stdout",
     "output_type": "stream",
     "text": [
      "gs://gresearch/robotics/droid_raw/1.0.1/AUTOLab/success/2023-07-07/Fri_Jul__7_10:01:42_2023/metadata_AUTOLab+5d05c5aa+2023-07-07-10h-01m-42s.json\n",
      "AUTOLab+5d05c5aa+2023-07-07-10h-01m-42s\n"
     ]
    }
   ],
   "source": [
    "for p in episode_paths:\n",
    "    break\n",
    "print(p)\n",
    "episode_id = p[:-5].split(\"/\")[-1].split(\"_\")[-1]\n",
    "print(episode_id)"
   ]
  }
 ],
 "metadata": {
  "kernelspec": {
   "display_name": "openpi",
   "language": "python",
   "name": "python3"
  },
  "language_info": {
   "codemirror_mode": {
    "name": "ipython",
    "version": 3
   },
   "file_extension": ".py",
   "mimetype": "text/x-python",
   "name": "python",
   "nbconvert_exporter": "python",
   "pygments_lexer": "ipython3",
   "version": "3.12.9"
  }
 },
 "nbformat": 4,
 "nbformat_minor": 2
}
