{
 "cells": [
  {
   "cell_type": "code",
   "execution_count": 52,
   "metadata": {},
   "outputs": [
    {
     "name": "stdout",
     "output_type": "stream",
     "text": [
      "AUTOLab+5d05c5aa+2023-07-07-09h-42m-23s\n"
     ]
    }
   ],
   "source": [
    "import glob\n",
    "\n",
    "path = \"Fri_Jul__7_09:42:23_2023\"\n",
    "\n",
    "metadata_path = glob.glob(f\"{path}/metadata_*.json\")[0]\n",
    "\n",
    "import json\n",
    "\n",
    "with open(metadata_path, \"r\") as f:\n",
    "    metadata = json.load(f)\n",
    "    \n",
    "uuid = metadata[\"uuid\"]\n",
    "print(uuid)"
   ]
  },
  {
   "cell_type": "code",
   "execution_count": 2,
   "metadata": {},
   "outputs": [],
   "source": [
    "import json\n",
    "\n",
    "with open(\"cam2cam_extrinsics.json\") as f:\n",
    "    cam2cam_extrinsics = json.load(f)\n",
    "\n",
    "with open(\"cam2base_extrinsics.json\") as f:\n",
    "    cam2base_extrinsics = json.load(f)\n",
    "\n",
    "with open(\"cam2base_extrinsic_superset.json\") as f:\n",
    "    cam2base_extrinsic_superset = json.load(f)\n"
   ]
  },
  {
   "cell_type": "code",
   "execution_count": 3,
   "metadata": {},
   "outputs": [
    {
     "name": "stdout",
     "output_type": "stream",
     "text": [
      "['gs://gresearch/robotics/droid_raw/1.0.1/AUTOLab/success/2023-07-07/Fri_Jul__7_09:42:23_2023/metadata_AUTOLab+5d05c5aa+2023-07-07-09h-42m-23s.json', 'gs://gresearch/robotics/droid_raw/1.0.1/AUTOLab/success/2023-07-07/Fri_Jul__7_09:43:39_2023/metadata_AUTOLab+5d05c5aa+2023-07-07-09h-43m-39s.json', 'gs://gresearch/robotics/droid_raw/1.0.1/AUTOLab/success/2023-07-07/Fri_Jul__7_09:44:34_2023/metadata_AUTOLab+5d05c5aa+2023-07-07-09h-44m-34s.json', 'gs://gresearch/robotics/droid_raw/1.0.1/AUTOLab/success/2023-07-07/Fri_Jul__7_09:52:29_2023/metadata_AUTOLab+5d05c5aa+2023-07-07-09h-52m-29s.json', 'gs://gresearch/robotics/droid_raw/1.0.1/AUTOLab/success/2023-07-07/Fri_Jul__7_09:53:50_2023/metadata_AUTOLab+5d05c5aa+2023-07-07-09h-53m-50s.json', 'gs://gresearch/robotics/droid_raw/1.0.1/AUTOLab/success/2023-07-07/Fri_Jul__7_09:55:14_2023/metadata_AUTOLab+5d05c5aa+2023-07-07-09h-55m-14s.json', 'gs://gresearch/robotics/droid_raw/1.0.1/AUTOLab/success/2023-07-07/Fri_Jul__7_10:01:42_2023/metadata_AUTOLab+5d05c5aa+2023-07-07-10h-01m-42s.json', 'gs://gresearch/robotics/droid_raw/1.0.1/AUTOLab/success/2023-07-07/Fri_Jul__7_10:03:36_2023/metadata_AUTOLab+5d05c5aa+2023-07-07-10h-03m-36s.json', 'gs://gresearch/robotics/droid_raw/1.0.1/AUTOLab/success/2023-07-07/Fri_Jul__7_10:04:33_2023/metadata_AUTOLab+5d05c5aa+2023-07-07-10h-04m-33s.json', 'gs://gresearch/robotics/droid_raw/1.0.1/AUTOLab/success/2023-07-07/Fri_Jul__7_10:05:20_2023/metadata_AUTOLab+5d05c5aa+2023-07-07-10h-05m-20s.json', 'gs://gresearch/robotics/droid_raw/1.0.1/AUTOLab/success/2023-07-07/Fri_Jul__7_10:06:23_2023/metadata_AUTOLab+5d05c5aa+2023-07-07-10h-06m-23s.json', 'gs://gresearch/robotics/droid_raw/1.0.1/AUTOLab/success/2023-07-07/Fri_Jul__7_10:07:45_2023/metadata_AUTOLab+5d05c5aa+2023-07-07-10h-07m-45s.json', 'gs://gresearch/robotics/droid_raw/1.0.1/AUTOLab/success/2023-07-07/Fri_Jul__7_10:09:06_2023/metadata_AUTOLab+5d05c5aa+2023-07-07-10h-09m-06s.json', 'gs://gresearch/robotics/droid_raw/1.0.1/AUTOLab/success/2023-07-07/Fri_Jul__7_10:11:29_2023/metadata_AUTOLab+5d05c5aa+2023-07-07-10h-11m-29s.json', 'gs://gresearch/robotics/droid_raw/1.0.1/AUTOLab/success/2023-07-07/Fri_Jul__7_10:12:24_2023/metadata_AUTOLab+5d05c5aa+2023-07-07-10h-12m-24s.json', 'gs://gresearch/robotics/droid_raw/1.0.1/AUTOLab/success/2023-07-07/Fri_Jul__7_10:13:22_2023/metadata_AUTOLab+5d05c5aa+2023-07-07-10h-13m-22s.json', 'gs://gresearch/robotics/droid_raw/1.0.1/AUTOLab/success/2023-07-07/Fri_Jul__7_10:15:14_2023/metadata_AUTOLab+5d05c5aa+2023-07-07-10h-15m-14s.json', 'gs://gresearch/robotics/droid_raw/1.0.1/AUTOLab/success/2023-07-07/Fri_Jul__7_10:17:57_2023/metadata_AUTOLab+5d05c5aa+2023-07-07-10h-17m-57s.json', 'gs://gresearch/robotics/droid_raw/1.0.1/AUTOLab/success/2023-07-07/Fri_Jul__7_10:19:58_2023/metadata_AUTOLab+5d05c5aa+2023-07-07-10h-19m-58s.json', 'gs://gresearch/robotics/droid_raw/1.0.1/AUTOLab/success/2023-07-07/Fri_Jul__7_10:21:44_2023/metadata_AUTOLab+5d05c5aa+2023-07-07-10h-21m-44s.json', 'gs://gresearch/robotics/droid_raw/1.0.1/AUTOLab/success/2023-07-07/Fri_Jul__7_10:22:38_2023/metadata_AUTOLab+5d05c5aa+2023-07-07-10h-22m-38s.json', 'gs://gresearch/robotics/droid_raw/1.0.1/AUTOLab/success/2023-07-07/Fri_Jul__7_10:43:53_2023/metadata_AUTOLab+5d05c5aa+2023-07-07-10h-43m-53s.json', 'gs://gresearch/robotics/droid_raw/1.0.1/AUTOLab/success/2023-07-07/Fri_Jul__7_10:44:59_2023/metadata_AUTOLab+5d05c5aa+2023-07-07-10h-44m-59s.json', 'gs://gresearch/robotics/droid_raw/1.0.1/AUTOLab/success/2023-07-07/Fri_Jul__7_10:45:46_2023/metadata_AUTOLab+5d05c5aa+2023-07-07-10h-45m-46s.json', 'gs://gresearch/robotics/droid_raw/1.0.1/AUTOLab/success/2023-07-07/Fri_Jul__7_10:46:46_2023/metadata_AUTOLab+5d05c5aa+2023-07-07-10h-46m-46s.json', 'gs://gresearch/robotics/droid_raw/1.0.1/AUTOLab/success/2023-07-07/Fri_Jul__7_10:48:20_2023/metadata_AUTOLab+5d05c5aa+2023-07-07-10h-48m-20s.json', 'gs://gresearch/robotics/droid_raw/1.0.1/AUTOLab/success/2023-07-07/Fri_Jul__7_10:49:15_2023/metadata_AUTOLab+5d05c5aa+2023-07-07-10h-49m-15s.json', 'gs://gresearch/robotics/droid_raw/1.0.1/AUTOLab/success/2023-07-07/Fri_Jul__7_10:57:15_2023/metadata_AUTOLab+5d05c5aa+2023-07-07-10h-57m-15s.json', 'gs://gresearch/robotics/droid_raw/1.0.1/AUTOLab/success/2023-07-07/Fri_Jul__7_10:58:06_2023/metadata_AUTOLab+5d05c5aa+2023-07-07-10h-58m-06s.json', 'gs://gresearch/robotics/droid_raw/1.0.1/AUTOLab/success/2023-07-07/Fri_Jul__7_11:14:13_2023/metadata_AUTOLab+5d05c5aa+2023-07-07-11h-14m-13s.json', 'gs://gresearch/robotics/droid_raw/1.0.1/AUTOLab/success/2023-07-07/Fri_Jul__7_11:15:19_2023/metadata_AUTOLab+5d05c5aa+2023-07-07-11h-15m-19s.json', 'gs://gresearch/robotics/droid_raw/1.0.1/AUTOLab/success/2023-07-07/Fri_Jul__7_11:18:19_2023/metadata_AUTOLab+5d05c5aa+2023-07-07-11h-18m-19s.json', 'gs://gresearch/robotics/droid_raw/1.0.1/AUTOLab/success/2023-07-07/Fri_Jul__7_11:19:14_2023/metadata_AUTOLab+5d05c5aa+2023-07-07-11h-19m-14s.json', 'gs://gresearch/robotics/droid_raw/1.0.1/AUTOLab/success/2023-07-07/Fri_Jul__7_11:24:13_2023/metadata_AUTOLab+5d05c5aa+2023-07-07-11h-24m-13s.json', 'gs://gresearch/robotics/droid_raw/1.0.1/AUTOLab/success/2023-07-07/Fri_Jul__7_11:25:09_2023/metadata_AUTOLab+5d05c5aa+2023-07-07-11h-25m-09s.json', 'gs://gresearch/robotics/droid_raw/1.0.1/AUTOLab/success/2023-07-07/Fri_Jul__7_11:27:58_2023/metadata_AUTOLab+5d05c5aa+2023-07-07-11h-27m-58s.json', 'gs://gresearch/robotics/droid_raw/1.0.1/AUTOLab/success/2023-07-07/Fri_Jul__7_11:33:08_2023/metadata_AUTOLab+5d05c5aa+2023-07-07-11h-33m-08s.json', 'gs://gresearch/robotics/droid_raw/1.0.1/AUTOLab/success/2023-07-07/Fri_Jul__7_11:35:19_2023/metadata_AUTOLab+5d05c5aa+2023-07-07-11h-35m-19s.json', 'gs://gresearch/robotics/droid_raw/1.0.1/AUTOLab/success/2023-07-07/Fri_Jul__7_14:37:09_2023/metadata_AUTOLab+5d05c5aa+2023-07-07-14h-37m-09s.json', 'gs://gresearch/robotics/droid_raw/1.0.1/AUTOLab/success/2023-07-07/Fri_Jul__7_14:53:01_2023/metadata_AUTOLab+5d05c5aa+2023-07-07-14h-53m-01s.json', 'gs://gresearch/robotics/droid_raw/1.0.1/AUTOLab/success/2023-07-07/Fri_Jul__7_14:53:52_2023/metadata_AUTOLab+5d05c5aa+2023-07-07-14h-53m-52s.json', 'gs://gresearch/robotics/droid_raw/1.0.1/AUTOLab/success/2023-07-07/Fri_Jul__7_14:54:53_2023/metadata_AUTOLab+5d05c5aa+2023-07-07-14h-54m-53s.json', 'gs://gresearch/robotics/droid_raw/1.0.1/AUTOLab/success/2023-07-07/Fri_Jul__7_14:55:32_2023/metadata_AUTOLab+5d05c5aa+2023-07-07-14h-55m-32s.json', 'gs://gresearch/robotics/droid_raw/1.0.1/AUTOLab/success/2023-07-07/Fri_Jul__7_14:56:20_2023/metadata_AUTOLab+5d05c5aa+2023-07-07-14h-56m-20s.json', 'gs://gresearch/robotics/droid_raw/1.0.1/AUTOLab/success/2023-07-07/Fri_Jul__7_14:57:01_2023/metadata_AUTOLab+5d05c5aa+2023-07-07-14h-57m-01s.json', 'gs://gresearch/robotics/droid_raw/1.0.1/AUTOLab/success/2023-07-07/Fri_Jul__7_14:57:48_2023/metadata_AUTOLab+5d05c5aa+2023-07-07-14h-57m-48s.json', 'gs://gresearch/robotics/droid_raw/1.0.1/AUTOLab/success/2023-07-07/Fri_Jul__7_14:58:30_2023/metadata_AUTOLab+5d05c5aa+2023-07-07-14h-58m-30s.json', 'gs://gresearch/robotics/droid_raw/1.0.1/AUTOLab/success/2023-07-07/Fri_Jul__7_14:59:06_2023/metadata_AUTOLab+5d05c5aa+2023-07-07-14h-59m-06s.json', 'gs://gresearch/robotics/droid_raw/1.0.1/AUTOLab/success/2023-07-07/Fri_Jul__7_15:01:09_2023/metadata_AUTOLab+5d05c5aa+2023-07-07-15h-01m-09s.json', 'gs://gresearch/robotics/droid_raw/1.0.1/AUTOLab/success/2023-07-07/Fri_Jul__7_15:01:54_2023/metadata_AUTOLab+5d05c5aa+2023-07-07-15h-01m-54s.json', 'gs://gresearch/robotics/droid_raw/1.0.1/AUTOLab/success/2023-07-07/Fri_Jul__7_15:03:33_2023/metadata_AUTOLab+5d05c5aa+2023-07-07-15h-03m-33s.json', 'gs://gresearch/robotics/droid_raw/1.0.1/AUTOLab/success/2023-07-07/Fri_Jul__7_15:04:26_2023/metadata_AUTOLab+5d05c5aa+2023-07-07-15h-04m-26s.json', 'gs://gresearch/robotics/droid_raw/1.0.1/AUTOLab/success/2023-07-07/Fri_Jul__7_15:05:15_2023/metadata_AUTOLab+5d05c5aa+2023-07-07-15h-05m-15s.json', 'gs://gresearch/robotics/droid_raw/1.0.1/AUTOLab/success/2023-07-07/Fri_Jul__7_15:46:11_2023/metadata_AUTOLab+84bd5053+2023-07-07-15h-46m-11s.json', 'gs://gresearch/robotics/droid_raw/1.0.1/AUTOLab/success/2023-07-07/Fri_Jul__7_15:47:06_2023/metadata_AUTOLab+84bd5053+2023-07-07-15h-47m-06s.json', 'gs://gresearch/robotics/droid_raw/1.0.1/AUTOLab/success/2023-07-07/Fri_Jul__7_15:48:15_2023/metadata_AUTOLab+84bd5053+2023-07-07-15h-48m-15s.json', 'gs://gresearch/robotics/droid_raw/1.0.1/AUTOLab/success/2023-07-07/Fri_Jul__7_15:49:40_2023/metadata_AUTOLab+84bd5053+2023-07-07-15h-49m-40s.json', 'gs://gresearch/robotics/droid_raw/1.0.1/AUTOLab/success/2023-07-07/Fri_Jul__7_15:51:56_2023/metadata_AUTOLab+84bd5053+2023-07-07-15h-51m-56s.json', 'gs://gresearch/robotics/droid_raw/1.0.1/AUTOLab/success/2023-07-07/Fri_Jul__7_16:05:29_2023/metadata_AUTOLab+5d05c5aa+2023-07-07-16h-05m-29s.json', 'gs://gresearch/robotics/droid_raw/1.0.1/AUTOLab/success/2023-07-07/Fri_Jul__7_16:06:10_2023/metadata_AUTOLab+5d05c5aa+2023-07-07-16h-06m-10s.json', 'gs://gresearch/robotics/droid_raw/1.0.1/AUTOLab/success/2023-07-07/Fri_Jul__7_16:07:07_2023/metadata_AUTOLab+5d05c5aa+2023-07-07-16h-07m-07s.json', 'gs://gresearch/robotics/droid_raw/1.0.1/AUTOLab/success/2023-07-07/Fri_Jul__7_16:07:40_2023/metadata_AUTOLab+5d05c5aa+2023-07-07-16h-07m-40s.json', 'gs://gresearch/robotics/droid_raw/1.0.1/AUTOLab/success/2023-07-07/Fri_Jul__7_16:08:13_2023/metadata_AUTOLab+5d05c5aa+2023-07-07-16h-08m-13s.json', 'gs://gresearch/robotics/droid_raw/1.0.1/AUTOLab/success/2023-07-07/Fri_Jul__7_16:09:25_2023/metadata_AUTOLab+5d05c5aa+2023-07-07-16h-09m-25s.json', 'gs://gresearch/robotics/droid_raw/1.0.1/AUTOLab/success/2023-07-07/Fri_Jul__7_16:09:58_2023/metadata_AUTOLab+5d05c5aa+2023-07-07-16h-09m-58s.json', 'gs://gresearch/robotics/droid_raw/1.0.1/AUTOLab/success/2023-07-07/Fri_Jul__7_16:10:38_2023/metadata_AUTOLab+5d05c5aa+2023-07-07-16h-10m-38s.json', 'gs://gresearch/robotics/droid_raw/1.0.1/AUTOLab/success/2023-07-07/Fri_Jul__7_16:11:11_2023/metadata_AUTOLab+5d05c5aa+2023-07-07-16h-11m-11s.json', 'gs://gresearch/robotics/droid_raw/1.0.1/AUTOLab/success/2023-07-07/Fri_Jul__7_16:12:17_2023/metadata_AUTOLab+5d05c5aa+2023-07-07-16h-12m-17s.json', 'gs://gresearch/robotics/droid_raw/1.0.1/AUTOLab/success/2023-07-07/Fri_Jul__7_16:12:50_2023/metadata_AUTOLab+5d05c5aa+2023-07-07-16h-12m-50s.json', 'gs://gresearch/robotics/droid_raw/1.0.1/AUTOLab/success/2023-07-07/Fri_Jul__7_16:13:33_2023/metadata_AUTOLab+5d05c5aa+2023-07-07-16h-13m-33s.json', 'gs://gresearch/robotics/droid_raw/1.0.1/AUTOLab/success/2023-07-07/Fri_Jul__7_16:14:17_2023/metadata_AUTOLab+5d05c5aa+2023-07-07-16h-14m-17s.json', 'gs://gresearch/robotics/droid_raw/1.0.1/AUTOLab/success/2023-07-07/Fri_Jul__7_16:14:45_2023/metadata_AUTOLab+5d05c5aa+2023-07-07-16h-14m-45s.json', 'gs://gresearch/robotics/droid_raw/1.0.1/AUTOLab/success/2023-07-07/Fri_Jul__7_16:15:15_2023/metadata_AUTOLab+5d05c5aa+2023-07-07-16h-15m-15s.json', 'gs://gresearch/robotics/droid_raw/1.0.1/AUTOLab/success/2023-07-07/Fri_Jul__7_16:15:45_2023/metadata_AUTOLab+5d05c5aa+2023-07-07-16h-15m-45s.json', 'gs://gresearch/robotics/droid_raw/1.0.1/AUTOLab/success/2023-07-07/Fri_Jul__7_16:16:13_2023/metadata_AUTOLab+5d05c5aa+2023-07-07-16h-16m-13s.json', 'gs://gresearch/robotics/droid_raw/1.0.1/AUTOLab/success/2023-07-07/Fri_Jul__7_16:17:01_2023/metadata_AUTOLab+5d05c5aa+2023-07-07-16h-17m-01s.json', 'gs://gresearch/robotics/droid_raw/1.0.1/AUTOLab/success/2023-07-07/Fri_Jul__7_16:17:37_2023/metadata_AUTOLab+5d05c5aa+2023-07-07-16h-17m-37s.json', 'gs://gresearch/robotics/droid_raw/1.0.1/AUTOLab/success/2023-07-07/Fri_Jul__7_16:18:15_2023/metadata_AUTOLab+5d05c5aa+2023-07-07-16h-18m-15s.json', 'gs://gresearch/robotics/droid_raw/1.0.1/AUTOLab/success/2023-07-07/Fri_Jul__7_16:19:20_2023/metadata_AUTOLab+5d05c5aa+2023-07-07-16h-19m-20s.json', 'gs://gresearch/robotics/droid_raw/1.0.1/AUTOLab/success/2023-07-07/Fri_Jul__7_16:20:02_2023/metadata_AUTOLab+5d05c5aa+2023-07-07-16h-20m-02s.json', 'gs://gresearch/robotics/droid_raw/1.0.1/AUTOLab/success/2023-07-07/Fri_Jul__7_16:20:33_2023/metadata_AUTOLab+5d05c5aa+2023-07-07-16h-20m-33s.json', 'gs://gresearch/robotics/droid_raw/1.0.1/AUTOLab/success/2023-07-07/Fri_Jul__7_16:21:05_2023/metadata_AUTOLab+5d05c5aa+2023-07-07-16h-21m-05s.json', 'gs://gresearch/robotics/droid_raw/1.0.1/AUTOLab/success/2023-07-07/Fri_Jul__7_16:21:36_2023/metadata_AUTOLab+5d05c5aa+2023-07-07-16h-21m-36s.json', 'gs://gresearch/robotics/droid_raw/1.0.1/AUTOLab/success/2023-07-07/Fri_Jul__7_16:22:20_2023/metadata_AUTOLab+5d05c5aa+2023-07-07-16h-22m-20s.json', 'gs://gresearch/robotics/droid_raw/1.0.1/AUTOLab/success/2023-07-07/Fri_Jul__7_16:22:56_2023/metadata_AUTOLab+5d05c5aa+2023-07-07-16h-22m-56s.json', 'gs://gresearch/robotics/droid_raw/1.0.1/AUTOLab/success/2023-07-07/Fri_Jul__7_16:23:20_2023/metadata_AUTOLab+5d05c5aa+2023-07-07-16h-23m-20s.json', 'gs://gresearch/robotics/droid_raw/1.0.1/AUTOLab/success/2023-07-07/Fri_Jul__7_16:23:56_2023/metadata_AUTOLab+5d05c5aa+2023-07-07-16h-23m-56s.json', 'gs://gresearch/robotics/droid_raw/1.0.1/AUTOLab/success/2023-07-07/Fri_Jul__7_16:25:08_2023/metadata_AUTOLab+5d05c5aa+2023-07-07-16h-25m-08s.json', 'gs://gresearch/robotics/droid_raw/1.0.1/AUTOLab/success/2023-07-07/Fri_Jul__7_16:25:40_2023/metadata_AUTOLab+5d05c5aa+2023-07-07-16h-25m-40s.json', 'gs://gresearch/robotics/droid_raw/1.0.1/AUTOLab/success/2023-07-07/Fri_Jul__7_16:26:12_2023/metadata_AUTOLab+5d05c5aa+2023-07-07-16h-26m-12s.json', 'gs://gresearch/robotics/droid_raw/1.0.1/AUTOLab/success/2023-07-07/Fri_Jul__7_16:26:46_2023/metadata_AUTOLab+5d05c5aa+2023-07-07-16h-26m-46s.json', 'gs://gresearch/robotics/droid_raw/1.0.1/AUTOLab/success/2023-07-07/Fri_Jul__7_16:28:02_2023/metadata_AUTOLab+5d05c5aa+2023-07-07-16h-28m-02s.json', 'gs://gresearch/robotics/droid_raw/1.0.1/AUTOLab/success/2023-07-07/Fri_Jul__7_16:28:38_2023/metadata_AUTOLab+5d05c5aa+2023-07-07-16h-28m-38s.json', 'gs://gresearch/robotics/droid_raw/1.0.1/AUTOLab/success/2023-07-07/Fri_Jul__7_16:29:08_2023/metadata_AUTOLab+5d05c5aa+2023-07-07-16h-29m-08s.json', 'gs://gresearch/robotics/droid_raw/1.0.1/AUTOLab/success/2023-07-07/Fri_Jul__7_16:29:41_2023/metadata_AUTOLab+5d05c5aa+2023-07-07-16h-29m-41s.json', 'gs://gresearch/robotics/droid_raw/1.0.1/AUTOLab/success/2023-07-07/Fri_Jul__7_18:38:56_2023/metadata_AUTOLab+5d05c5aa+2023-07-07-18h-38m-56s.json', 'gs://gresearch/robotics/droid_raw/1.0.1/AUTOLab/success/2023-07-07/Fri_Jul__7_18:40:11_2023/metadata_AUTOLab+5d05c5aa+2023-07-07-18h-40m-11s.json', 'gs://gresearch/robotics/droid_raw/1.0.1/AUTOLab/success/2023-07-07/Fri_Jul__7_18:41:04_2023/metadata_AUTOLab+5d05c5aa+2023-07-07-18h-41m-04s.json', 'gs://gresearch/robotics/droid_raw/1.0.1/AUTOLab/success/2023-07-07/Fri_Jul__7_18:46:24_2023/metadata_AUTOLab+5d05c5aa+2023-07-07-18h-46m-24s.json', 'gs://gresearch/robotics/droid_raw/1.0.1/AUTOLab/success/2023-07-07/Fri_Jul__7_18:47:14_2023/metadata_AUTOLab+5d05c5aa+2023-07-07-18h-47m-14s.json', 'gs://gresearch/robotics/droid_raw/1.0.1/AUTOLab/success/2023-07-07/Fri_Jul__7_18:47:47_2023/metadata_AUTOLab+5d05c5aa+2023-07-07-18h-47m-47s.json', 'gs://gresearch/robotics/droid_raw/1.0.1/AUTOLab/success/2023-07-07/Fri_Jul__7_18:48:16_2023/metadata_AUTOLab+5d05c5aa+2023-07-07-18h-48m-16s.json', 'gs://gresearch/robotics/droid_raw/1.0.1/AUTOLab/success/2023-07-07/Fri_Jul__7_18:48:48_2023/metadata_AUTOLab+5d05c5aa+2023-07-07-18h-48m-48s.json', 'gs://gresearch/robotics/droid_raw/1.0.1/AUTOLab/success/2023-07-07/Fri_Jul__7_18:51:31_2023/metadata_AUTOLab+5d05c5aa+2023-07-07-18h-51m-31s.json', 'gs://gresearch/robotics/droid_raw/1.0.1/AUTOLab/success/2023-07-07/Fri_Jul__7_18:52:04_2023/metadata_AUTOLab+5d05c5aa+2023-07-07-18h-52m-04s.json', 'gs://gresearch/robotics/droid_raw/1.0.1/AUTOLab/success/2023-07-07/Fri_Jul__7_18:52:44_2023/metadata_AUTOLab+5d05c5aa+2023-07-07-18h-52m-44s.json', 'gs://gresearch/robotics/droid_raw/1.0.1/AUTOLab/success/2023-07-07/Fri_Jul__7_18:55:00_2023/metadata_AUTOLab+5d05c5aa+2023-07-07-18h-55m-00s.json', 'gs://gresearch/robotics/droid_raw/1.0.1/AUTOLab/success/2023-07-07/Fri_Jul__7_18:55:44_2023/metadata_AUTOLab+5d05c5aa+2023-07-07-18h-55m-44s.json', 'gs://gresearch/robotics/droid_raw/1.0.1/AUTOLab/success/2023-07-07/Fri_Jul__7_18:57:11_2023/metadata_AUTOLab+5d05c5aa+2023-07-07-18h-57m-11s.json', 'gs://gresearch/robotics/droid_raw/1.0.1/AUTOLab/success/2023-07-07/Fri_Jul__7_19:00:44_2023/metadata_AUTOLab+5d05c5aa+2023-07-07-19h-00m-44s.json', 'gs://gresearch/robotics/droid_raw/1.0.1/AUTOLab/success/2023-07-07/Fri_Jul__7_19:01:24_2023/metadata_AUTOLab+5d05c5aa+2023-07-07-19h-01m-24s.json', 'gs://gresearch/robotics/droid_raw/1.0.1/AUTOLab/success/2023-07-07/Fri_Jul__7_19:02:10_2023/metadata_AUTOLab+5d05c5aa+2023-07-07-19h-02m-10s.json']\n"
     ]
    }
   ],
   "source": [
    "import pickle\n",
    "\n",
    "with open(\"episode_paths.pkl\", \"rb\") as f:\n",
    "    episode_paths = pickle.load(f)\n",
    "\n",
    "print(episode_paths)"
   ]
  },
  {
   "cell_type": "code",
   "execution_count": 5,
   "metadata": {},
   "outputs": [
    {
     "name": "stdout",
     "output_type": "stream",
     "text": [
      "gs://gresearch/robotics/droid_raw/1.0.1/AUTOLab/success/2023-07-07/Fri_Jul__7_11:27:58_2023/metadata_AUTOLab+5d05c5aa+2023-07-07-11h-27m-58s.json\n"
     ]
    }
   ],
   "source": [
    "for path in episode_paths:\n",
    "    episode_id = path[:-5].split(\"/\")[-1].split(\"_\")[-1]\n",
    "    # print(episode_id)\n",
    "    if episode_id in cam2base_extrinsic_superset.keys():\n",
    "        print(path)\n",
    "        break\n"
   ]
  },
  {
   "cell_type": "code",
   "execution_count": 18,
   "metadata": {},
   "outputs": [
    {
     "name": "stdout",
     "output_type": "stream",
     "text": [
      "91632\n",
      "36084\n",
      "24044\n"
     ]
    }
   ],
   "source": [
    "print(len(cam2cam_extrinsics.keys()))\n",
    "print(len(cam2base_extrinsics.keys()))\n",
    "print(len(cam2base_extrinsic_superset.keys()))"
   ]
  },
  {
   "cell_type": "code",
   "execution_count": 35,
   "metadata": {},
   "outputs": [
    {
     "data": {
      "text/plain": [
       "['AUTOLab+5d05c5aa+2023-07-07-09h-48m-37s',\n",
       " 'AUTOLab+5d05c5aa+2023-07-07-09h-50m-13s',\n",
       " 'AUTOLab+5d05c5aa+2023-07-07-09h-51m-07s',\n",
       " 'AUTOLab+5d05c5aa+2023-07-07-10h-15m-57s',\n",
       " 'AUTOLab+5d05c5aa+2023-07-07-10h-23m-36s',\n",
       " 'AUTOLab+5d05c5aa+2023-07-07-10h-29m-59s',\n",
       " 'AUTOLab+5d05c5aa+2023-07-07-10h-38m-48s',\n",
       " 'AUTOLab+5d05c5aa+2023-07-07-10h-39m-19s',\n",
       " 'AUTOLab+5d05c5aa+2023-07-07-10h-53m-07s',\n",
       " 'AUTOLab+5d05c5aa+2023-07-07-10h-59m-17s']"
      ]
     },
     "execution_count": 35,
     "metadata": {},
     "output_type": "execute_result"
    }
   ],
   "source": [
    "list(cam2base_extrinsics.keys())[0:10] # 'AUTOLab+5d05c5aa+2023-07-07-10h-00m-27s' 这个没找到\n"
   ]
  },
  {
   "cell_type": "code",
   "execution_count": 19,
   "metadata": {},
   "outputs": [
    {
     "ename": "TypeError",
     "evalue": "argument of type 'int' is not iterable",
     "output_type": "error",
     "traceback": [
      "\u001b[31m---------------------------------------------------------------------------\u001b[39m",
      "\u001b[31mTypeError\u001b[39m                                 Traceback (most recent call last)",
      "\u001b[36mCell\u001b[39m\u001b[36m \u001b[39m\u001b[32mIn[19]\u001b[39m\u001b[32m, line 1\u001b[39m\n\u001b[32m----> \u001b[39m\u001b[32m1\u001b[39m \u001b[38;5;28mprint\u001b[39m(\u001b[38;5;28;43mlen\u001b[39;49m\u001b[43m(\u001b[49m\u001b[43mcam2base_extrinsics\u001b[49m\u001b[43m.\u001b[49m\u001b[43mkeys\u001b[49m\u001b[43m(\u001b[49m\u001b[43m)\u001b[49m\u001b[43m)\u001b[49m\u001b[43m \u001b[49m\u001b[38;5;129;43;01min\u001b[39;49;00m\u001b[43m \u001b[49m\u001b[38;5;28;43mlen\u001b[39;49m\u001b[43m(\u001b[49m\u001b[43mcam2cam_extrinsics\u001b[49m\u001b[43m.\u001b[49m\u001b[43mkeys\u001b[49m\u001b[43m(\u001b[49m\u001b[43m)\u001b[49m\u001b[43m)\u001b[49m) \n",
      "\u001b[31mTypeError\u001b[39m: argument of type 'int' is not iterable"
     ]
    }
   ],
   "source": [
    "print(len(cam2base_extrinsics.keys()) in len(cam2cam_extrinsics.keys())) \n"
   ]
  },
  {
   "cell_type": "code",
   "execution_count": 17,
   "metadata": {},
   "outputs": [
    {
     "data": {
      "text/plain": [
       "{'relative_path': 'RAIL/success/2023-12-03/Sun_Dec__3_11:06:33_2023',\n",
       " 'left_cam': {'pose': [[0.16834425926208496,\n",
       "    0.2234395295381546,\n",
       "    -0.9600702524185181,\n",
       "    0.5663580894470215],\n",
       "   [-0.6506575345993042,\n",
       "    0.7568319439888,\n",
       "    0.06204932928085327,\n",
       "    -0.2563057839870453],\n",
       "   [0.740476131439209,\n",
       "    0.614231288433075,\n",
       "    0.27279090881347656,\n",
       "    0.23915664851665497],\n",
       "   [0.0, 0.0, 0.0, 1.0]],\n",
       "  'focal': 526.580078125,\n",
       "  'principal_point': [631.9154663085938, 360.2758483886719]},\n",
       " 'right_cam': {'pose': [[0.9774787425994873,\n",
       "    0.05102258175611496,\n",
       "    0.20477324724197388,\n",
       "    0.0],\n",
       "   [0.00293797068297863, 0.9669484496116638, -0.2549552321434021, 0.0],\n",
       "   [-0.21101364493370056, 0.2498149275779724, 0.9450216293334961, 0.0],\n",
       "   [0.0, 0.0, 0.0, 1.0]],\n",
       "  'focal': 525.378173828125,\n",
       "  'principal_point': [666.1605834960938, 368.52850341796875]},\n",
       " 'metric_type': 'num_matches',\n",
       " 'quality_metric': 12438}"
      ]
     },
     "execution_count": 17,
     "metadata": {},
     "output_type": "execute_result"
    }
   ],
   "source": [
    "cam2cam_extrinsics[uuid]"
   ]
  },
  {
   "cell_type": "code",
   "execution_count": 2,
   "metadata": {},
   "outputs": [
    {
     "data": {
      "text/plain": [
       "{'uuid': 'RAIL+c3d50939+2023-12-03-11h-06m-33s',\n",
       " 'lab': 'RAIL',\n",
       " 'user': 'Litzy Cerezo',\n",
       " 'user_id': 'c3d50939',\n",
       " 'date': '2023-12-03',\n",
       " 'timestamp': '2023-12-03-11h-06m-33s',\n",
       " 'hdf5_path': 'success/2023-12-03/Sun_Dec__3_11:06:33_2023/trajectory.h5',\n",
       " 'building': 'RAIL',\n",
       " 'scene_id': 1747321924,\n",
       " 'success': True,\n",
       " 'robot_serial': 'fr3-290102-1324143',\n",
       " 'r2d2_version': '1.3',\n",
       " 'current_task': 'Move object to a new position and orientation (ex: grasping, relocating, flipping)',\n",
       " 'trajectory_length': 692,\n",
       " 'wrist_cam_serial': '13062452',\n",
       " 'ext1_cam_serial': '20521388',\n",
       " 'ext2_cam_serial': '24259877',\n",
       " 'wrist_cam_extrinsics': [0.3149687830665673,\n",
       "  0.01198663085500383,\n",
       "  0.44919955228953024,\n",
       "  2.8879126344780164,\n",
       "  0.20539301700388002,\n",
       "  1.5165887794708732],\n",
       " 'ext1_cam_extrinsics': [0.3343062039868225,\n",
       "  -0.2267159630648502,\n",
       "  0.24494039088477618,\n",
       "  -2.1340123327384517,\n",
       "  -0.01944161556428292,\n",
       "  -0.7491025313186459],\n",
       " 'ext2_cam_extrinsics': [0.3574924221121051,\n",
       "  0.40500810301689705,\n",
       "  0.2461499812045969,\n",
       "  -2.1159944544205413,\n",
       "  -0.13470015544598923,\n",
       "  -2.149515321147964],\n",
       " 'wrist_svo_path': 'success/2023-12-03/Sun_Dec__3_11:06:33_2023/recordings/SVO/13062452.svo',\n",
       " 'wrist_mp4_path': 'success/2023-12-03/Sun_Dec__3_11:06:33_2023/recordings/MP4/13062452.mp4',\n",
       " 'ext1_svo_path': 'success/2023-12-03/Sun_Dec__3_11:06:33_2023/recordings/SVO/20521388.svo',\n",
       " 'ext1_mp4_path': 'success/2023-12-03/Sun_Dec__3_11:06:33_2023/recordings/MP4/20521388.mp4',\n",
       " 'ext2_svo_path': 'success/2023-12-03/Sun_Dec__3_11:06:33_2023/recordings/SVO/24259877.svo',\n",
       " 'ext2_mp4_path': 'success/2023-12-03/Sun_Dec__3_11:06:33_2023/recordings/MP4/24259877.mp4',\n",
       " 'left_mp4_path': 'success/2023-12-03/Sun_Dec__3_11:06:33_2023/recordings/MP4/24259877.mp4',\n",
       " 'right_mp4_path': 'success/2023-12-03/Sun_Dec__3_11:06:33_2023/recordings/MP4/20521388.mp4'}"
      ]
     },
     "execution_count": 2,
     "metadata": {},
     "output_type": "execute_result"
    }
   ],
   "source": [
    "metadata"
   ]
  },
  {
   "cell_type": "code",
   "execution_count": null,
   "metadata": {},
   "outputs": [],
   "source": []
  }
 ],
 "metadata": {
  "kernelspec": {
   "display_name": "openpi",
   "language": "python",
   "name": "python3"
  },
  "language_info": {
   "codemirror_mode": {
    "name": "ipython",
    "version": 3
   },
   "file_extension": ".py",
   "mimetype": "text/x-python",
   "name": "python",
   "nbconvert_exporter": "python",
   "pygments_lexer": "ipython3",
   "version": "3.12.9"
  }
 },
 "nbformat": 4,
 "nbformat_minor": 2
}
