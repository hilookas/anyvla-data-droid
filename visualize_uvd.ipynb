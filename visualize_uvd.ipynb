{
 "cells": [
  {
   "cell_type": "code",
   "execution_count": 2,
   "metadata": {},
   "outputs": [],
   "source": [
    "import json\n",
    "import cv2\n",
    "import numpy as np\n",
    "\n",
    "save_dir = \"output/IPRL+7790ec0a+2023-06-27-21h-02m-21s\"\n",
    "\n",
    "with open(save_dir + \"/\" + \"intrinsics.json\", \"r\") as f:\n",
    "    intrinsics = json.load(f)\n",
    "\n",
    "depth_scale = 1000\n",
    "\n",
    "image_array = cv2.imread(save_dir + \"/\" + \"image.png\")\n",
    "depth_array = cv2.imread(save_dir + \"/\" + \"depth.png\", cv2.IMREAD_UNCHANGED)\n",
    "\n",
    "with open(save_dir + \"/\" + \"XYZRPYeef2cams.json\", \"r\") as f:\n",
    "    XYZRPYeef2cams = np.array(json.load(f))\n",
    "\n",
    "with open(save_dir + \"/\" + \"UVDeef2cams.json\", \"r\") as f:\n",
    "    UVDeef2cams = np.array(json.load(f))"
   ]
  },
  {
   "cell_type": "code",
   "execution_count": 7,
   "metadata": {},
   "outputs": [
    {
     "data": {
      "text/plain": [
       "True"
      ]
     },
     "execution_count": 7,
     "metadata": {},
     "output_type": "execute_result"
    }
   ],
   "source": [
    "import pytransform3d.rotations as pr\n",
    "import numpy as np\n",
    "import json\n",
    "\n",
    "def T_from_xyzrpy(xyzrpy):\n",
    "    T = np.eye(4)\n",
    "    T[:3,3] = xyzrpy[:3]\n",
    "    T[:3,:3] = pr.matrix_from_euler(xyzrpy[3:], 0, 1, 2, True)\n",
    "    return T\n",
    "\n",
    "def xyzrpy_from_T(T):\n",
    "    xyzrpy = np.zeros(6)\n",
    "    xyzrpy[:3] = T[:3,3]\n",
    "    xyzrpy[3:] = pr.euler_from_matrix(T[:3,:3], 0, 1, 2, True)\n",
    "    return xyzrpy\n",
    "\n",
    "cv_image = np.copy(image_array)\n",
    "\n",
    "# Example usage\n",
    "for idx, UVDeef2cam in enumerate(UVDeef2cams):\n",
    "    cv2.circle(cv_image, (int(UVDeef2cam[0]), int(UVDeef2cam[1])), 5, (0, 0, int(255 * UVDeef2cam[0] / depth_scale)), -1)\n",
    "\n",
    "cv2.imwrite(\"uvd.png\", cv_image)\n",
    "\n",
    "# viewer.close()"
   ]
  }
 ],
 "metadata": {
  "kernelspec": {
   "display_name": "torch",
   "language": "python",
   "name": "python3"
  },
  "language_info": {
   "codemirror_mode": {
    "name": "ipython",
    "version": 3
   },
   "file_extension": ".py",
   "mimetype": "text/x-python",
   "name": "python",
   "nbconvert_exporter": "python",
   "pygments_lexer": "ipython3",
   "version": "3.12.10"
  }
 },
 "nbformat": 4,
 "nbformat_minor": 2
}
