{
 "cells": [
  {
   "cell_type": "code",
   "execution_count": 5,
   "metadata": {},
   "outputs": [],
   "source": [
    "import json\n",
    "import cv2\n",
    "import numpy as np\n",
    "\n",
    "save_dir = \"output/IPRL+7790ec0a+2023-06-27-21h-02m-21s\"\n",
    "\n",
    "with open(save_dir + \"/\" + \"intrinsics.json\", \"r\") as f:\n",
    "    intrinsics = json.load(f)\n",
    "\n",
    "depth_scale = 1000\n",
    "\n",
    "image_array = cv2.imread(save_dir + \"/\" + \"image.png\")\n",
    "depth_array = cv2.imread(save_dir + \"/\" + \"depth.png\", cv2.IMREAD_UNCHANGED)\n",
    "\n",
    "with open(save_dir + \"/\" + \"XYZRPYeef2cams.json\", \"r\") as f:\n",
    "    XYZRPYeef2cams = np.array(json.load(f))\n",
    "\n",
    "with open(save_dir + \"/\" + \"UVDeef2cams.json\", \"r\") as f:\n",
    "    UVDeef2cams = np.array(json.load(f))"
   ]
  },
  {
   "cell_type": "code",
   "execution_count": 6,
   "metadata": {},
   "outputs": [
    {
     "data": {
      "text/plain": [
       "True"
      ]
     },
     "execution_count": 6,
     "metadata": {},
     "output_type": "execute_result"
    }
   ],
   "source": [
    "from utils_cv import draw_xyz_axis\n",
    "from utils import T_from_xyzrpy\n",
    "\n",
    "cv_image = np.copy(image_array)\n",
    "\n",
    "# Example usage\n",
    "count = 0\n",
    "for idx, (XYZRPYeef2cam, UVDeef2cam) in enumerate(zip(XYZRPYeef2cams, UVDeef2cams)):\n",
    "    cv2.circle(cv_image, (int(UVDeef2cam[0]), int(UVDeef2cam[1])), 5, (0, 0, int(255 * UVDeef2cam[0] / depth_scale)), -1)\n",
    "\n",
    "    if count == 0:\n",
    "        Teef2cam = T_from_xyzrpy(XYZRPYeef2cam)\n",
    "        cv_image = draw_xyz_axis(cv_image, ob_in_cam=Teef2cam, scale=0.1, K=intrinsics, thickness=3, transparency=0)\n",
    "        \n",
    "    count += 1\n",
    "    if count == 10:\n",
    "        count = 0\n",
    "\n",
    "cv2.imwrite(\"T.png\", cv_image)\n",
    "\n",
    "# viewer.close()"
   ]
  }
 ],
 "metadata": {
  "kernelspec": {
   "display_name": "torch",
   "language": "python",
   "name": "python3"
  },
  "language_info": {
   "codemirror_mode": {
    "name": "ipython",
    "version": 3
   },
   "file_extension": ".py",
   "mimetype": "text/x-python",
   "name": "python",
   "nbconvert_exporter": "python",
   "pygments_lexer": "ipython3",
   "version": "3.12.10"
  }
 },
 "nbformat": 4,
 "nbformat_minor": 2
}
