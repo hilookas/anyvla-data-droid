{
 "cells": [
  {
   "cell_type": "code",
   "execution_count": 1,
   "metadata": {},
   "outputs": [
    {
     "name": "stdout",
     "output_type": "stream",
     "text": [
      "24044\n"
     ]
    }
   ],
   "source": [
    "import json\n",
    "\n",
    "droid3d_anno_path = \"droid\"\n",
    "\n",
    "with open(droid3d_anno_path + \"/cam2base_extrinsics.json\") as f:\n",
    "    cam2base_extrinsics = json.load(f)\n",
    "\n",
    "with open(droid3d_anno_path + \"/cam2base_extrinsic_superset.json\") as f:\n",
    "    cam2base_extrinsic_superset = json.load(f)\n",
    "\n",
    "with open(droid3d_anno_path + \"/droid_language_annotations.json\") as f:\n",
    "    droid_language_annotations = json.load(f)\n",
    "\n",
    "print(len(cam2base_extrinsic_superset))"
   ]
  },
  {
   "cell_type": "code",
   "execution_count": 2,
   "metadata": {},
   "outputs": [
    {
     "name": "stdout",
     "output_type": "stream",
     "text": [
      "59740\n",
      "uuid IPRL+7790ec0a+2023-06-27-20h-57m-09s not in cam2base_extrinsic_superset\n",
      "uuid IPRL+7790ec0a+2023-06-27-20h-24m-51s not in cam2base_extrinsic_superset\n",
      "IPRL+7790ec0a+2023-06-27-21h-02m-21s\n",
      "IPRL/success/2023-06-27/Tue_Jun_27_21:02:21_2023\n",
      "{'uuid': 'IPRL+7790ec0a+2023-06-27-21h-02m-21s', 'lab': 'IPRL', 'user': 'Marion Lepert', 'user_id': '7790ec0a', 'date': '2023-06-27', 'timestamp': '2023-06-27-21h-02m-21s', 'hdf5_path': 'success/2023-06-27/Tue_Jun_27_21:02:21_2023/trajectory.h5', 'building': '775 Roble', 'scene_id': 8351259745, 'success': True, 'robot_serial': 'panda-295341-1325480', 'r2d2_version': '1.3', 'current_task': 'Open or close hinged object (ex: hinged door, microwave, oven, book, dryer, toilet, box)', 'trajectory_length': 153, 'wrist_cam_serial': '12391924', 'ext1_cam_serial': '21582473', 'ext2_cam_serial': '28221883', 'wrist_cam_extrinsics': [0.32085092844058694, 0.061907514889166, 0.4160269019638068, 2.780198025634674, -0.21272213182917477, 1.7303129617793613], 'ext1_cam_extrinsics': [0.4133658918373677, 0.5191669411163002, 0.34488415138807543, -1.8749857605155331, 0.002304947622426168, -2.417060550579326], 'ext2_cam_extrinsics': [0.41219764578398044, -0.3362463845488745, 0.3913281515308852, -1.6775540904351778, -0.02166973075098544, -0.9203954685179273], 'wrist_svo_path': 'success/2023-06-27/Tue_Jun_27_21:02:21_2023/recordings/SVO/12391924.svo', 'wrist_mp4_path': 'success/2023-06-27/Tue_Jun_27_21:02:21_2023/recordings/MP4/12391924.mp4', 'ext1_svo_path': 'success/2023-06-27/Tue_Jun_27_21:02:21_2023/recordings/SVO/21582473.svo', 'ext1_mp4_path': 'success/2023-06-27/Tue_Jun_27_21:02:21_2023/recordings/MP4/21582473.mp4', 'ext2_svo_path': 'success/2023-06-27/Tue_Jun_27_21:02:21_2023/recordings/SVO/28221883.svo', 'ext2_mp4_path': 'success/2023-06-27/Tue_Jun_27_21:02:21_2023/recordings/MP4/28221883.mp4', 'left_mp4_path': 'success/2023-06-27/Tue_Jun_27_21:02:21_2023/recordings/MP4/21582473.mp4', 'right_mp4_path': 'success/2023-06-27/Tue_Jun_27_21:02:21_2023/recordings/MP4/28221883.mp4'}\n"
     ]
    }
   ],
   "source": [
    "from utils import xyz_from_uvd, uvd_from_xyz, T_from_xyzrpy, xyzrpy_from_T\n",
    "\n",
    "import glob\n",
    "import json\n",
    "\n",
    "droid_base_path = \"/mnt/20T/droid_raw_1.0.1\"\n",
    "\n",
    "episode_meta_paths = glob.glob(\"*/success/*/*/metadata_*.json\", root_dir=droid_base_path)\n",
    "print(len(episode_meta_paths))\n",
    "\n",
    "def wo_prefix(p):\n",
    "    return \"/\".join(p.split(\"/\")[3:])\n",
    "\n",
    "for episode_meta_path in episode_meta_paths:\n",
    "    with open(droid_base_path + \"/\" + episode_meta_path, \"r\") as f:\n",
    "        metadata = json.load(f)\n",
    "        \n",
    "    uuid = metadata[\"uuid\"]\n",
    "    \n",
    "    if uuid not in cam2base_extrinsic_superset:\n",
    "        print(f\"uuid {uuid} not in cam2base_extrinsic_superset\")\n",
    "        continue\n",
    "    \n",
    "    prefix_path = \"/\".join(episode_meta_path.split(\"/\")[:-1])\n",
    "    \n",
    "    print(uuid)\n",
    "    print(prefix_path)\n",
    "    print(metadata)\n",
    "\n",
    "    break"
   ]
  },
  {
   "cell_type": "code",
   "execution_count": 3,
   "metadata": {},
   "outputs": [],
   "source": [
    "import pytransform3d.transformations as pt\n",
    "import numpy as np\n",
    "\n",
    "Tbase2cam = pt.invert_transform(T_from_xyzrpy(cam2base_extrinsic_superset[uuid][metadata[\"ext1_cam_serial\"]]))\n",
    "\n",
    "Teef2tip = np.array([\n",
    "    [0, 0, 1, 0],\n",
    "    [0, -1, 0, 0],\n",
    "    [1, 0, 0, 0.150],\n",
    "    [0, 0, 0, 1]\n",
    "])"
   ]
  },
  {
   "cell_type": "code",
   "execution_count": 4,
   "metadata": {},
   "outputs": [],
   "source": [
    "import h5py\n",
    "\n",
    "cartesian_positions = None\n",
    "\n",
    "with h5py.File(droid_base_path + \"/\" + prefix_path + \"/\" + wo_prefix(metadata[\"hdf5_path\"]), \"r\") as f:\n",
    "    cartesian_positions = np.array(f[\"observation\"][\"robot_state\"][\"cartesian_position\"])"
   ]
  },
  {
   "cell_type": "code",
   "execution_count": 5,
   "metadata": {},
   "outputs": [],
   "source": [
    "import cv2\n",
    "import numpy as np\n",
    "import pyzed.sl as sl\n",
    "\n",
    "def load_svo(svo_path, frame_idx=None):\n",
    "    # Create a ZED camera object\n",
    "    zed = sl.Camera()\n",
    "    \n",
    "    # Set configuration parameters\n",
    "    init_params = sl.InitParameters()\n",
    "    init_params.set_from_svo_file(svo_path)\n",
    "    \n",
    "    # Open the camera\n",
    "    err = zed.open(init_params)\n",
    "    if err != sl.ERROR_CODE.SUCCESS:\n",
    "        print(f\"Error {err}: Failed to open SVO file\")\n",
    "        return\n",
    "    \n",
    "    # Get intrinsics\n",
    "    left_cam_calibration_params = zed.get_camera_information().camera_configuration.calibration_parameters.left_cam\n",
    "    fx = left_cam_calibration_params.fx\n",
    "    fy = left_cam_calibration_params.fy\n",
    "    cx = left_cam_calibration_params.cx\n",
    "    cy = left_cam_calibration_params.cy\n",
    "    intrinsics = np.array([[fx, 0, cx], [0, fy, cy], [0, 0, 1]])\n",
    "    depth_scale = 1000\n",
    "    \n",
    "    # Create image\n",
    "    image = sl.Mat()\n",
    "    depth = sl.Mat()\n",
    "    point_cloud = sl.Mat()\n",
    "    \n",
    "    # Read frames\n",
    "    i = 0\n",
    "    while zed.grab() == sl.ERROR_CODE.SUCCESS:\n",
    "        zed.retrieve_image(image, sl.VIEW.LEFT) # Retrieve image\n",
    "        zed.retrieve_measure(depth, sl.MEASURE.DEPTH) # Retrieve depth\n",
    "        zed.retrieve_measure(point_cloud, sl.MEASURE.XYZRGBA)\n",
    "        \n",
    "        # zed.retrieve_image(image_r, sl.VIEW.RIGHT) # Retrieve right image\n",
    "        # zed.retrieve_measure(depth_r, sl.MEASURE.DEPTH_RIGHT) # Retrieve right depth\n",
    "        # zed.retrieve_measure(point_cloud_r, sl.MEASURE.XYZRGBA_RIGHT)\n",
    "\n",
    "        # Convert to numpy array\n",
    "        image_array = image.get_data().copy() # 不加copy好像会导致内存泄漏\n",
    "        depth_array = depth.get_data().copy()\n",
    "        point_cloud_array = point_cloud.get_data().copy()\n",
    "        \n",
    "        a = yield image_array, depth_array, point_cloud_array, intrinsics, depth_scale\n",
    "        \n",
    "        if frame_idx is not None and i == frame_idx:\n",
    "            break\n",
    "        \n",
    "        i += 1\n",
    "    \n",
    "    # Close the camera\n",
    "    zed.close()\n",
    "    \n",
    "    return"
   ]
  },
  {
   "cell_type": "code",
   "execution_count": 6,
   "metadata": {},
   "outputs": [
    {
     "name": "stdout",
     "output_type": "stream",
     "text": [
      "[2025-06-18 17:16:55 UTC][ZED][INFO] Logging level INFO\n",
      "[2025-06-18 17:16:55 UTC][ZED][INFO] Logging level INFO\n",
      "[2025-06-18 17:16:55 UTC][ZED][INFO] Logging level INFO\n",
      "[2025-06-18 17:16:55 UTC][ZED][INFO] [Init]  Depth mode: PERFORMANCE\n",
      "[2025-06-18 17:16:55 UTC][ZED][INFO] [Init]  Serial Number: S/N 21582473\n"
     ]
    }
   ],
   "source": [
    "g = load_svo(droid_base_path + \"/\" + prefix_path + \"/\" + wo_prefix(metadata[\"ext1_svo_path\"]), 0)\n",
    "\n",
    "for idx, (image_array, depth_array, point_cloud_array, intrinsics, depth_scale) in enumerate(g):\n",
    "    break\n",
    "\n",
    "XYZRPYeef2cams = []\n",
    "UVDeef2cams = []\n",
    "for idx in range(len(cartesian_positions)):\n",
    "    Ttip2base = T_from_xyzrpy(cartesian_positions[idx])\n",
    "    Ttip2cam = Tbase2cam @ Ttip2base\n",
    "    Teef2cam = Ttip2cam @ Teef2tip\n",
    "    xyzrpy = xyzrpy_from_T(Teef2cam)\n",
    "    XYZRPYeef2cams.append(xyzrpy)\n",
    "    UVDeef2cams.append(uvd_from_xyz(xyzrpy[:3], intrinsics, depth_scale))\n",
    "\n",
    "XYZRPYeef2cams = np.array(XYZRPYeef2cams)\n",
    "UVDeef2cams = np.array(UVDeef2cams)"
   ]
  },
  {
   "cell_type": "code",
   "execution_count": 7,
   "metadata": {},
   "outputs": [
    {
     "name": "stdout",
     "output_type": "stream",
     "text": [
      "(720, 1280, 3) uint8\n",
      "(720, 1280) uint16\n"
     ]
    },
    {
     "name": "stderr",
     "output_type": "stream",
     "text": [
      "/tmp/ipykernel_2913909/541270744.py:2: RuntimeWarning: invalid value encountered in cast\n",
      "  depth_array = depth_array.astype(np.uint16)\n"
     ]
    }
   ],
   "source": [
    "image_array = cv2.cvtColor(np.asarray(image_array), cv2.COLOR_BGRA2BGR)\n",
    "depth_array = depth_array.astype(np.uint16)\n",
    "print(image_array.shape, image_array.dtype)\n",
    "print(depth_array.shape, depth_array.dtype)"
   ]
  },
  {
   "cell_type": "code",
   "execution_count": 8,
   "metadata": {},
   "outputs": [],
   "source": [
    "output_dir = \"output\"\n",
    "save_dir = output_dir + \"/\" + uuid\n",
    "import os\n",
    "os.makedirs(save_dir, exist_ok=True)"
   ]
  },
  {
   "cell_type": "code",
   "execution_count": 9,
   "metadata": {},
   "outputs": [
    {
     "name": "stdout",
     "output_type": "stream",
     "text": [
      "Open the door.\n"
     ]
    }
   ],
   "source": [
    "# print(metadata[\"current_task\"])\n",
    "print(droid_language_annotations[uuid]['language_instruction1'])\n",
    "# print(list(droid_language_annotations.items())[1])"
   ]
  },
  {
   "cell_type": "code",
   "execution_count": 10,
   "metadata": {},
   "outputs": [],
   "source": [
    "instruction = droid_language_annotations[uuid]['language_instruction1']"
   ]
  },
  {
   "cell_type": "code",
   "execution_count": 11,
   "metadata": {},
   "outputs": [],
   "source": [
    "with open(save_dir + \"/\" + \"intrinsics.json\", \"w\") as f:\n",
    "    json.dump(intrinsics.tolist(), f)\n",
    "\n",
    "cv2.imwrite(save_dir + \"/\" + \"image.png\", image_array)\n",
    "cv2.imwrite(save_dir + \"/\" + \"depth.png\", depth_array)\n",
    "\n",
    "with open(save_dir + \"/\" + \"XYZRPYeef2cams.json\", \"w\") as f:\n",
    "    json.dump(XYZRPYeef2cams.tolist(), f)\n",
    "\n",
    "with open(save_dir + \"/\" + \"instruction.json\", \"w\") as f:\n",
    "    json.dump(instruction, f)\n",
    "\n",
    "with open(save_dir + \"/\" + \"UVDeef2cams.json\", \"w\") as f:\n",
    "    json.dump(UVDeef2cams.tolist(), f)\n"
   ]
  }
 ],
 "metadata": {
  "kernelspec": {
   "display_name": "torch",
   "language": "python",
   "name": "python3"
  },
  "language_info": {
   "codemirror_mode": {
    "name": "ipython",
    "version": 3
   },
   "file_extension": ".py",
   "mimetype": "text/x-python",
   "name": "python",
   "nbconvert_exporter": "python",
   "pygments_lexer": "ipython3",
   "version": "3.12.10"
  }
 },
 "nbformat": 4,
 "nbformat_minor": 2
}
